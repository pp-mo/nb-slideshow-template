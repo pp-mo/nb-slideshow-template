{
 "metadata": {
  "name": "",
  "signature": "sha256:ab7c43d217f40e9182febea245d81db99e392aa8d4f0770adafbca3557e6c88b"
 },
 "nbformat": 3,
 "nbformat_minor": 0,
 "worksheets": [
  {
   "cells": [
    {
     "cell_type": "markdown",
     "metadata": {},
     "source": [
      "# Installing the slideshow support\n",
      "\n",
      "**NOTE** The tools here require IPython 1.0, they do *not* work with\n",
      "IPython 0.13.2.\n",
      "\n",
      "You should only need to run this notebook *once*. \n",
      "\n",
      "It will install the slideshow tools in your IPython profile from github.  It's done in steps so you can debug it more easily if things go wrong.\n",
      "\n",
      "Start by getting the location of your current profile:"
     ]
    },
    {
     "cell_type": "code",
     "collapsed": false,
     "input": [
      "profile_dir = get_ipython().profile_dir.location\n",
      "profile_dir"
     ],
     "language": "python",
     "metadata": {},
     "outputs": [
      {
       "metadata": {},
       "output_type": "pyout",
       "prompt_number": 1,
       "text": [
        "u'/home/avd/.ipython/profile_default'"
       ]
      }
     ],
     "prompt_number": 1
    },
    {
     "cell_type": "markdown",
     "metadata": {},
     "source": [
      "Clone the [Github repo](https://github.com/ipython-contrib/IPython-notebook-extensions) with IPython extensions, including the slideshow support, into the right location:"
     ]
    },
    {
     "cell_type": "code",
     "collapsed": false,
     "input": [
      "import os\n",
      "tgt = os.path.join( profile_dir, 'static', 'custom')\n",
      "print tgt\n",
      "#!cd $tgt; git clone https://github.com/ipython-contrib/IPython-notebook-extensions.git"
     ],
     "language": "python",
     "metadata": {},
     "outputs": [
      {
       "output_type": "stream",
       "stream": "stdout",
       "text": [
        "/home/avd/.ipython/profile_default/static/custom\n",
        "Cloning into 'IPython-notebook-extensions'...\r\n"
       ]
      },
      {
       "output_type": "stream",
       "stream": "stdout",
       "text": [
        "remote: Counting objects: 1122, done.\u001b[K\r\n",
        "remote: Compressing objects:   4% (1/23)   \u001b[K\r",
        "remote: Compressing objects:   8% (2/23)   \u001b[K\r",
        "remote: Compressing objects:  13% (3/23)   \u001b[K\r",
        "remote: Compressing objects:  17% (4/23)   \u001b[K\r",
        "remote: Compressing objects:  21% (5/23)   \u001b[K\r",
        "remote: Compressing objects:  26% (6/23)   \u001b[K\r",
        "remote: Compressing objects:  30% (7/23)   \u001b[K\r",
        "remote: Compressing objects:  34% (8/23)   \u001b[K\r",
        "remote: Compressing objects:  39% (9/23)   \u001b[K\r",
        "remote: Compressing objects:  43% (10/23)   \u001b[K\r",
        "remote: Compressing objects:  47% (11/23)   \u001b[K\r",
        "remote: Compressing objects:  52% (12/23)   \u001b[K\r",
        "remote: Compressing objects:  56% (13/23)   \u001b[K\r",
        "remote: Compressing objects:  60% (14/23)   \u001b[K\r",
        "remote: Compressing objects:  65% (15/23)   \u001b[K\r"
       ]
      },
      {
       "output_type": "stream",
       "stream": "stdout",
       "text": [
        "remote: Compressing objects:  69% (16/23)   \u001b[K\r",
        "remote: Compressing objects:  73% (17/23)   \u001b[K\r",
        "remote: Compressing objects:  78% (18/23)   \u001b[K\r",
        "remote: Compressing objects:  82% (19/23)   \u001b[K\r",
        "remote: Compressing objects:  86% (20/23)   \u001b[K\r",
        "remote: Compressing objects:  91% (21/23)   \u001b[K\r",
        "remote: Compressing objects:  95% (22/23)   \u001b[K\r",
        "remote: Compressing objects: 100% (23/23)   \u001b[K\r",
        "remote: Compressing objects: 100% (23/23), done.\u001b[K\r\n"
       ]
      },
      {
       "output_type": "stream",
       "stream": "stdout",
       "text": [
        "Receiving objects:   0% (1/1122)   \r",
        "Receiving objects:   1% (12/1122)   \r",
        "Receiving objects:   2% (23/1122)   \r",
        "Receiving objects:   3% (34/1122)   \r"
       ]
      },
      {
       "output_type": "stream",
       "stream": "stdout",
       "text": [
        "Receiving objects:   4% (45/1122)   \r",
        "Receiving objects:   5% (57/1122)   \r",
        "Receiving objects:   6% (68/1122)   \r",
        "Receiving objects:   7% (79/1122)   \r",
        "Receiving objects:   8% (90/1122)   \r",
        "Receiving objects:   9% (101/1122)   \r",
        "Receiving objects:  10% (113/1122)   \r"
       ]
      },
      {
       "output_type": "stream",
       "stream": "stdout",
       "text": [
        "Receiving objects:  11% (124/1122)   \r",
        "Receiving objects:  12% (135/1122)   \r",
        "Receiving objects:  13% (146/1122)   \r",
        "Receiving objects:  14% (158/1122)   \r"
       ]
      },
      {
       "output_type": "stream",
       "stream": "stdout",
       "text": [
        "Receiving objects:  15% (169/1122)   \r",
        "Receiving objects:  16% (180/1122)   \r",
        "Receiving objects:  17% (191/1122)   \r",
        "Receiving objects:  18% (202/1122)   \r",
        "Receiving objects:  19% (214/1122)   \r",
        "Receiving objects:  20% (225/1122)   \r",
        "Receiving objects:  21% (236/1122)   \r",
        "Receiving objects:  22% (247/1122)   \r",
        "Receiving objects:  23% (259/1122)   \r",
        "Receiving objects:  24% (270/1122)   \r",
        "Receiving objects:  25% (281/1122)   \r"
       ]
      },
      {
       "output_type": "stream",
       "stream": "stdout",
       "text": [
        "Receiving objects:  26% (292/1122)   \r",
        "Receiving objects:  27% (303/1122)   \r",
        "Receiving objects:  28% (315/1122)   \r"
       ]
      },
      {
       "output_type": "stream",
       "stream": "stdout",
       "text": [
        "Receiving objects:  29% (326/1122), 100.00 KiB | 178 KiB/s   \r"
       ]
      },
      {
       "output_type": "stream",
       "stream": "stdout",
       "text": [
        "Receiving objects:  29% (327/1122), 516.00 KiB | 466 KiB/s   \r"
       ]
      },
      {
       "output_type": "stream",
       "stream": "stdout",
       "text": [
        "Receiving objects:  29% (335/1122), 1.31 MiB | 836 KiB/s   \r",
        "Receiving objects:  30% (337/1122), 1.31 MiB | 836 KiB/s   \r",
        "Receiving objects:  31% (348/1122), 1.31 MiB | 836 KiB/s   \r",
        "Receiving objects:  32% (360/1122), 1.31 MiB | 836 KiB/s   \r",
        "Receiving objects:  33% (371/1122), 1.31 MiB | 836 KiB/s   \r",
        "Receiving objects:  34% (382/1122), 1.31 MiB | 836 KiB/s   \r",
        "Receiving objects:  35% (393/1122), 1.31 MiB | 836 KiB/s   \r",
        "Receiving objects:  36% (404/1122), 1.31 MiB | 836 KiB/s   \r",
        "Receiving objects:  37% (416/1122), 1.31 MiB | 836 KiB/s   \r"
       ]
      },
      {
       "output_type": "stream",
       "stream": "stdout",
       "text": [
        "Receiving objects:  38% (427/1122), 2.21 MiB | 1.05 MiB/s   \r"
       ]
      },
      {
       "output_type": "stream",
       "stream": "stdout",
       "text": [
        "Receiving objects:  39% (438/1122), 2.21 MiB | 1.05 MiB/s   \r"
       ]
      },
      {
       "output_type": "stream",
       "stream": "stdout",
       "text": [
        "Receiving objects:  40% (449/1122), 2.21 MiB | 1.05 MiB/s   \r",
        "Receiving objects:  41% (461/1122), 2.21 MiB | 1.05 MiB/s   \r",
        "Receiving objects:  42% (472/1122), 2.21 MiB | 1.05 MiB/s   \r",
        "Receiving objects:  43% (483/1122), 2.21 MiB | 1.05 MiB/s   \r",
        "Receiving objects:  44% (494/1122), 2.21 MiB | 1.05 MiB/s   \r",
        "Receiving objects:  45% (505/1122), 2.21 MiB | 1.05 MiB/s   \r",
        "Receiving objects:  46% (517/1122), 2.21 MiB | 1.05 MiB/s   \r",
        "Receiving objects:  47% (528/1122), 2.21 MiB | 1.05 MiB/s   \r",
        "Receiving objects:  48% (539/1122), 2.21 MiB | 1.05 MiB/s   \r",
        "Receiving objects:  49% (550/1122), 2.21 MiB | 1.05 MiB/s   \r",
        "Receiving objects:  50% (561/1122), 2.21 MiB | 1.05 MiB/s   \r",
        "Receiving objects:  51% (573/1122), 2.21 MiB | 1.05 MiB/s   \r",
        "Receiving objects:  52% (584/1122), 2.21 MiB | 1.05 MiB/s   \r",
        "Receiving objects:  53% (595/1122), 2.21 MiB | 1.05 MiB/s   \r",
        "Receiving objects:  54% (606/1122), 2.21 MiB | 1.05 MiB/s   \r",
        "Receiving objects:  55% (618/1122), 2.21 MiB | 1.05 MiB/s   \r",
        "Receiving objects:  56% (629/1122), 2.21 MiB | 1.05 MiB/s   \r",
        "Receiving objects:  57% (640/1122), 2.21 MiB | 1.05 MiB/s   \r",
        "Receiving objects:  58% (651/1122), 2.21 MiB | 1.05 MiB/s   \r",
        "Receiving objects:  59% (662/1122), 2.21 MiB | 1.05 MiB/s   \r",
        "Receiving objects:  60% (674/1122), 2.21 MiB | 1.05 MiB/s   \r"
       ]
      },
      {
       "output_type": "stream",
       "stream": "stdout",
       "text": [
        "Receiving objects:  61% (685/1122), 2.21 MiB | 1.05 MiB/s   \r",
        "Receiving objects:  62% (696/1122), 2.21 MiB | 1.05 MiB/s   \r",
        "Receiving objects:  63% (707/1122), 2.21 MiB | 1.05 MiB/s   \r",
        "Receiving objects:  64% (719/1122), 2.21 MiB | 1.05 MiB/s   \r",
        "Receiving objects:  65% (730/1122), 2.21 MiB | 1.05 MiB/s   \r",
        "Receiving objects:  66% (741/1122), 2.21 MiB | 1.05 MiB/s   \r",
        "Receiving objects:  67% (752/1122), 2.21 MiB | 1.05 MiB/s   \r",
        "Receiving objects:  68% (763/1122), 2.21 MiB | 1.05 MiB/s   \r",
        "Receiving objects:  69% (775/1122), 2.21 MiB | 1.05 MiB/s   \r",
        "Receiving objects:  70% (786/1122), 2.21 MiB | 1.05 MiB/s   \r",
        "Receiving objects:  71% (797/1122), 2.21 MiB | 1.05 MiB/s   \r",
        "Receiving objects:  72% (808/1122), 2.21 MiB | 1.05 MiB/s   \r",
        "Receiving objects:  73% (820/1122), 2.21 MiB | 1.05 MiB/s   \r",
        "Receiving objects:  74% (831/1122), 2.21 MiB | 1.05 MiB/s   \r",
        "Receiving objects:  75% (842/1122), 2.21 MiB | 1.05 MiB/s   \r",
        "Receiving objects:  76% (853/1122), 2.21 MiB | 1.05 MiB/s   \r",
        "Receiving objects:  77% (864/1122), 2.21 MiB | 1.05 MiB/s   \r",
        "Receiving objects:  78% (876/1122), 2.21 MiB | 1.05 MiB/s   \r",
        "Receiving objects:  79% (887/1122), 2.21 MiB | 1.05 MiB/s   \r",
        "Receiving objects:  80% (898/1122), 2.21 MiB | 1.05 MiB/s   \r",
        "Receiving objects:  81% (909/1122), 2.21 MiB | 1.05 MiB/s   \r",
        "Receiving objects:  82% (921/1122), 2.21 MiB | 1.05 MiB/s   \r",
        "Receiving objects:  83% (932/1122), 2.21 MiB | 1.05 MiB/s   \r",
        "Receiving objects:  84% (943/1122), 2.21 MiB | 1.05 MiB/s   \r",
        "Receiving objects:  85% (954/1122), 2.21 MiB | 1.05 MiB/s   \r",
        "Receiving objects:  86% (965/1122), 2.21 MiB | 1.05 MiB/s   \r",
        "Receiving objects:  87% (977/1122), 2.21 MiB | 1.05 MiB/s   \r",
        "Receiving objects:  88% (988/1122), 2.21 MiB | 1.05 MiB/s   \r",
        "Receiving objects:  89% (999/1122), 2.21 MiB | 1.05 MiB/s   \r",
        "Receiving objects:  90% (1010/1122), 2.21 MiB | 1.05 MiB/s   \r",
        "Receiving objects:  91% (1022/1122), 2.21 MiB | 1.05 MiB/s   \r",
        "Receiving objects:  92% (1033/1122), 2.21 MiB | 1.05 MiB/s   \r",
        "Receiving objects:  93% (1044/1122), 2.21 MiB | 1.05 MiB/s   \r",
        "Receiving objects:  94% (1055/1122), 2.21 MiB | 1.05 MiB/s   \r",
        "Receiving objects:  95% (1066/1122), 2.21 MiB | 1.05 MiB/s   \r",
        "Receiving objects:  96% (1078/1122), 2.21 MiB | 1.05 MiB/s   \r",
        "Receiving objects:  97% (1089/1122), 2.21 MiB | 1.05 MiB/s   \r",
        "Receiving objects:  98% (1100/1122), 2.21 MiB | 1.05 MiB/s   \r",
        "Receiving objects:  99% (1111/1122), 2.21 MiB | 1.05 MiB/s   \r",
        "remote: Total 1122 (delta 9), reused 7 (delta 1)\u001b[K\r\n",
        "Receiving objects: 100% (1122/1122), 2.21 MiB | 1.05 MiB/s   \r",
        "Receiving objects: 100% (1122/1122), 3.06 MiB | 1.05 MiB/s, done.\r\n",
        "Resolving deltas:   0% (0/535)   \r",
        "Resolving deltas:   1% (7/535)   \r",
        "Resolving deltas:   2% (11/535)   \r",
        "Resolving deltas:   3% (17/535)   \r",
        "Resolving deltas:   6% (35/535)   \r",
        "Resolving deltas:   7% (38/535)   \r",
        "Resolving deltas:   8% (43/535)   \r",
        "Resolving deltas:   9% (49/535)   \r",
        "Resolving deltas:  10% (54/535)   \r",
        "Resolving deltas:  11% (60/535)   \r",
        "Resolving deltas:  12% (68/535)   \r",
        "Resolving deltas:  14% (77/535)   \r",
        "Resolving deltas:  15% (84/535)   \r",
        "Resolving deltas:  16% (86/535)   \r",
        "Resolving deltas:  17% (92/535)   \r",
        "Resolving deltas:  18% (99/535)   \r",
        "Resolving deltas:  19% (106/535)   \r",
        "Resolving deltas:  20% (108/535)   \r",
        "Resolving deltas:  21% (117/535)   \r",
        "Resolving deltas:  22% (118/535)   \r",
        "Resolving deltas:  23% (124/535)   \r",
        "Resolving deltas:  24% (133/535)   \r",
        "Resolving deltas:  25% (136/535)   \r",
        "Resolving deltas:  26% (142/535)   \r",
        "Resolving deltas:  27% (147/535)   \r",
        "Resolving deltas:  31% (170/535)   \r",
        "Resolving deltas:  36% (197/535)   \r",
        "Resolving deltas:  37% (203/535)   \r",
        "Resolving deltas:  48% (258/535)   \r",
        "Resolving deltas:  49% (265/535)   \r",
        "Resolving deltas:  52% (279/535)   \r",
        "Resolving deltas:  56% (302/535)   \r",
        "Resolving deltas:  57% (305/535)   \r",
        "Resolving deltas:  58% (312/535)   \r",
        "Resolving deltas:  60% (325/535)   \r",
        "Resolving deltas:  61% (329/535)   \r",
        "Resolving deltas:  62% (332/535)   \r",
        "Resolving deltas:  63% (341/535)   \r",
        "Resolving deltas:  64% (345/535)   \r",
        "Resolving deltas:  65% (348/535)   \r",
        "Resolving deltas:  75% (405/535)   \r",
        "Resolving deltas:  76% (407/535)   \r",
        "Resolving deltas:  78% (421/535)   \r",
        "Resolving deltas:  85% (457/535)   \r",
        "Resolving deltas:  86% (464/535)   \r",
        "Resolving deltas:  88% (474/535)   \r",
        "Resolving deltas:  91% (492/535)   \r",
        "Resolving deltas:  92% (493/535)   \r",
        "Resolving deltas:  93% (498/535)   \r",
        "Resolving deltas:  94% (504/535)   \r",
        "Resolving deltas:  95% (510/535)   \r",
        "Resolving deltas:  96% (514/535)   \r",
        "Resolving deltas:  98% (526/535)   \r",
        "Resolving deltas:  99% (531/535)   \r",
        "Resolving deltas: 100% (535/535)   \r",
        "Resolving deltas: 100% (535/535), done.\r\n"
       ]
      }
     ],
     "prompt_number": 5
    },
    {
     "cell_type": "markdown",
     "metadata": {},
     "source": [
      "Let's `cd` into that directory and check that the contents look right:"
     ]
    },
    {
     "cell_type": "code",
     "collapsed": false,
     "input": [
      "%cd $tgt\n",
      "!ls\n",
      "%cd IPython-notebook-extensions\n",
      "!ls"
     ],
     "language": "python",
     "metadata": {},
     "outputs": [
      {
       "output_type": "stream",
       "stream": "stdout",
       "text": [
        "/home/avd/.ipython/profile_default/static/custom\n",
        "custom.css  custom.js  IPython-notebook-extensions\r\n"
       ]
      },
      {
       "output_type": "stream",
       "stream": "stdout",
       "text": [
        "/home/avd/.ipython/profile_default/static/custom/IPython-notebook-extensions\n",
        "COPYING.rst  custom.example.js\tpublishing  README.md  slidemode  styling  testing  usability  wiki-images\r\n"
       ]
      },
      {
       "output_type": "stream",
       "stream": "stdout",
       "text": [
        "cat: custom_example.js: No such file or directory\r\n"
       ]
      }
     ],
     "prompt_number": 11
    },
    {
     "cell_type": "markdown",
     "metadata": {},
     "source": [
      "Finally, write out a `custom.js` file that has activated the slideshow extension.  This is simply the provided `custom.example.js` file, with two lines commented out. Feel free to add more to activate other extensions, as explained in the `README.md` file:"
     ]
    },
    {
     "cell_type": "code",
     "collapsed": false,
     "input": [
      "%%writefile custom.js\n",
      "// we want strict javascript that fails\n",
      "// on ambiguous syntax\n",
      "\"using strict\";\n",
      "\n",
      "// do not use notebook loaded  event as it is re-triggerd on\n",
      "// revert to checkpoint but this allow extesnsion to be loaded\n",
      "// late enough to work.\n",
      "//\n",
      "\n",
      "$([IPython.events]).on('app_initialized.NotebookApp', function(){\n",
      "\n",
      "\n",
      "    /**  Use path to js file relative to /static/ dir without leading slash, or\n",
      "     *  js extension.\n",
      "     *  Link directly to file is js extension.\n",
      "     *\n",
      "     *  first argument of require is a **list** that can contains several modules if needed.\n",
      "     **/\n",
      "\n",
      "    // require(['custom/noscroll']);\n",
      "    // require(['custom/clean_start'])\n",
      "    // require(['custom/toggle_all_line_number'])\n",
      "    // require(['custom/gist_it']);\n",
      "\n",
      "    /**\n",
      "     *  Link to entrypoint if extesnsion is a folder.\n",
      "     *  to be consistent with commonjs module, the entrypoint is main.js\n",
      "     *  here youcan also trigger a custom function on load that will do extra\n",
      "     *  action with the module if needed\n",
      "     **/\n",
      "     require(['custom/slidemode/main'],function(slidemode){\n",
      "    //     // do stuff\n",
      "     })\n",
      "\n",
      "});\n"
     ],
     "language": "python",
     "metadata": {},
     "outputs": [
      {
       "output_type": "stream",
       "stream": "stdout",
       "text": [
        "Writing custom.js\n"
       ]
      }
     ],
     "prompt_number": 8
    },
    {
     "cell_type": "markdown",
     "metadata": {},
     "source": [
      "That's it! You should now restart your notebook server and reload the pages just to make sure you get fresh CSS.  If everything went well, your toolbar should look like this, with a new button highlighted here in red:\n",
      "\n",
      "![img](files/toolbar-slideshow.png)\n",
      "\n",
      "That new button is the toggle to enter live slideshow mode, which you can use to switch between the normal editing mode (with the whole notebook as one long scrolling document) and the presentation mode.\n",
      "\n",
      "Now that you've read this, look at the accompanying `notebook-slideshow-example` notebook as a starting illustration of how you can write a presentation-oriented notebook."
     ]
    }
   ],
   "metadata": {}
  }
 ]
}