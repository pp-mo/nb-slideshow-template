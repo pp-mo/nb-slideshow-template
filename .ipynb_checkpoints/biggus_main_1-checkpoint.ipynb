{
 "metadata": {
  "name": "",
  "signature": "sha256:dbb1b8160830b15ba19893a1025a985697d0d41215e8548cb41b427f231bcdf0"
 },
 "nbformat": 3,
 "nbformat_minor": 0,
 "worksheets": [
  {
   "cells": [
    {
     "cell_type": "code",
     "collapsed": false,
     "input": [
      "from IPython.display import Image\n",
      "import matplotlib.pyplot as plt\n",
      "%run talktools"
     ],
     "language": "python",
     "metadata": {},
     "outputs": [
      {
       "html": [
        "<style>\n",
        "\n",
        ".rendered_html\n",
        "{\n",
        "  color: #2C5494;\n",
        "  font-family: Ubuntu;\n",
        "  font-size: 140%;\n",
        "  line-height: 1.1;\n",
        "  margin: 0.5em 0;\n",
        "  }\n",
        "\n",
        ".title\n",
        "{\n",
        "  color: #498AF3;\n",
        "  font-size: 250%;\n",
        "  font-weight:bold;\n",
        "  line-height: 1.2; \n",
        "  margin: 10px 50px 10px;\n",
        "  }\n",
        "\n",
        ".subtitle\n",
        "{\n",
        "  color: #386BBC;\n",
        "  font-size: 180%;\n",
        "  font-weight:bold;\n",
        "  line-height: 1.2; \n",
        "  margin: 20px 50px 20px;\n",
        "  }\n",
        "\n",
        ".slide-header, p.slide-header\n",
        "{\n",
        "  color: #498AF3;\n",
        "  font-size: 200%;\n",
        "  font-weight:bold;\n",
        "  margin: 0px 20px 10px;\n",
        "  page-break-before: always;\n",
        "  text-align: center;\n",
        "  }\n",
        "\n",
        ".rendered_html h1\n",
        "{\n",
        "  color: #498AF3;\n",
        "  line-height: 1.2; \n",
        "  margin: 0.15em 0em 0.5em;\n",
        "  page-break-before: always;\n",
        "  text-align: center;\n",
        "  }\n",
        "\n",
        "\n",
        ".rendered_html h2\n",
        "{ \n",
        "  color: #386BBC;\n",
        "  line-height: 1.2;\n",
        "  margin: 1.1em 0em 0.5em;\n",
        "  }\n",
        "\n",
        ".rendered_html h3\n",
        "{ \n",
        "  font-size: 100%;\n",
        "  line-height: 1.2;\n",
        "  margin: 1.1em 0em 0.5em;\n",
        "  }\n",
        "\n",
        ".rendered_html li\n",
        "{\n",
        "  line-height: 1.8;\n",
        "  }\n",
        "\n",
        ".input_prompt, .CodeMirror-lines, .output_area\n",
        "{\n",
        "  font-family: Consolas;\n",
        "  font-size: 120%;\n",
        "  }\n",
        "\n",
        ".gap-above\n",
        "{\n",
        "  padding-top: 200px;\n",
        "  }\n",
        "\n",
        ".gap01\n",
        "{\n",
        "  padding-top: 10px;\n",
        "  }\n",
        "\n",
        ".gap05\n",
        "{\n",
        "  padding-top: 50px;\n",
        "  }\n",
        "\n",
        ".gap1\n",
        "{\n",
        "  padding-top: 100px;\n",
        "  }\n",
        "\n",
        ".gap2\n",
        "{\n",
        "  padding-top: 200px;\n",
        "  }\n",
        "\n",
        ".gap3\n",
        "{\n",
        "  padding-top: 300px;\n",
        "  }\n",
        "\n",
        ".emph\n",
        "{\n",
        "  color: #386BBC;\n",
        "  }\n",
        "\n",
        ".warn\n",
        "{\n",
        "  color: red;\n",
        "  }\n",
        "\n",
        ".center\n",
        "{\n",
        "  text-align: center;\n",
        "  }\n",
        "\n",
        ".nb_link\n",
        "{\n",
        "    padding-bottom: 0.5em;\n",
        "}\n",
        "\n",
        "</style>\n"
       ],
       "metadata": {},
       "output_type": "display_data",
       "text": [
        "<IPython.core.display.HTML at 0xaf806fac>"
       ]
      }
     ],
     "prompt_number": 16
    },
    {
     "cell_type": "markdown",
     "metadata": {
      "slideshow": {
       "slide_type": "slide"
      }
     },
     "source": [
      "[0]\n",
      "Efficient large data operations with Biggus\n",
      "===========================================\n",
      "\n",
      "Aug 30th 2014\n",
      "\n",
      "<img src=\"MO_Master_W.jpg\", width=150, align=\"right\">\n",
      "\n",
      "Patrick Peglar - UK Met Office, Exeter\n",
      "\n",
      " * Biggus:  https://github.com/SciTools/biggus\n",
      "\n",
      " * ( this talk:  https://github.com/pp-mo/nb-slideshow-template )\n",
      "\n",
      "\n",
      "\n"
     ]
    },
    {
     "cell_type": "markdown",
     "metadata": {
      "slideshow": {
       "slide_type": "subslide"
      }
     },
     "source": [
      "[0a]\n",
      "Overview\n",
      "-------\n",
      "\n",
      "Biggus is a lightweight pure-Python package which implements lazy operations on numpy array-like objects. This provides dramatically improved efficiency in analysing large datasets, for minimal additional effort in the client code."
     ]
    },
    {
     "cell_type": "markdown",
     "metadata": {
      "slideshow": {
       "slide_type": "fragment"
      }
     },
     "source": [
      "From the module docstring...\n",
      "-------\n",
      "*    Virtual arrays of arbitrary size, with arithmetic and statistical operations, and conversion to NumPy ndarrays.  \n",
      "*   Virtual arrays can be stacked to increase their dimensionality, or tiled to increase their extent.  \n",
      "*  Includes support for easily wrapping data sources which produce NumPy ndarray objects via slicing.  \n",
      "  *      For example: netcdf4python Variable instances, and NumPy ndarray instances.  \n",
      "*   All operations are performed in a lazy fashion to avoid overloading system resources.  \n",
      "*   Conversion to a concrete NumPy ndarray requires an explicit method call.    \n",
      "  "
     ]
    },
    {
     "cell_type": "markdown",
     "metadata": {
      "slideshow": {
       "slide_type": "fragment"
      }
     },
     "source": [
      " \n",
      "# ( That's pretty much it, so we can all go home. )\n"
     ]
    },
    {
     "cell_type": "markdown",
     "metadata": {
      "slideshow": {
       "slide_type": "slide"
      }
     },
     "source": [
      "[1]\n",
      "\n",
      "The longest journey ...\n",
      "------"
     ]
    },
    {
     "cell_type": "code",
     "collapsed": false,
     "input": [
      "import biggus\n",
      "print biggus.__version__"
     ],
     "language": "python",
     "metadata": {
      "slideshow": {
       "slide_type": "fragment"
      }
     },
     "outputs": [
      {
       "output_type": "stream",
       "stream": "stdout",
       "text": [
        "0.7.0-alpha\n"
       ]
      }
     ],
     "prompt_number": 17
    },
    {
     "cell_type": "markdown",
     "metadata": {
      "slideshow": {
       "slide_type": "slide"
      }
     },
     "source": [
      "[2]\n",
      "A simple 'mean' calculation ... \n",
      "----\n",
      "(and so later.. the biggus equivalent)"
     ]
    },
    {
     "cell_type": "code",
     "collapsed": false,
     "input": [
      "import numpy as np\n",
      "array_1 = np.array([[1., 5., 2.], [7., 6., 5.]])\n",
      "print 'simple array :\\n', array_1\n",
      "mean_a1 = array_1.mean(axis=1)\n",
      "print\n",
      "print 'mean over axis 1 :\\n',  mean_a1"
     ],
     "language": "python",
     "metadata": {
      "slideshow": {
       "slide_type": "fragment"
      }
     },
     "outputs": [
      {
       "output_type": "stream",
       "stream": "stdout",
       "text": [
        "simple array :\n",
        "[[ 1.  5.  2.]\n",
        " [ 7.  6.  5.]]\n",
        "\n",
        "mean over axis 1 :\n",
        "[ 2.66666667  6.        ]\n"
       ]
      }
     ],
     "prompt_number": 18
    },
    {
     "cell_type": "markdown",
     "metadata": {
      "slideshow": {
       "slide_type": "subslide"
      }
     },
     "source": [
      "[2a]\n",
      "Simple mean calculation : The Biggus equivalent\n",
      "----\n"
     ]
    },
    {
     "cell_type": "code",
     "collapsed": false,
     "input": [
      "lazy_1 = biggus.NumpyArrayAdapter(array_1)\n",
      "print 'a lazy array : ', lazy_1"
     ],
     "language": "python",
     "metadata": {
      "slideshow": {
       "slide_type": "fragment"
      }
     },
     "outputs": [
      {
       "output_type": "stream",
       "stream": "stdout",
       "text": [
        "a lazy array :  <NumpyArrayAdapter shape=(2, 3) dtype=dtype('float64')>\n"
       ]
      }
     ],
     "prompt_number": 19
    },
    {
     "cell_type": "markdown",
     "metadata": {
      "slideshow": {
       "slide_type": "subslide"
      }
     },
     "source": [
      "[2b]\n",
      "### ... lazy mean and result"
     ]
    },
    {
     "cell_type": "code",
     "collapsed": false,
     "input": [
      "lazy_mean = biggus.mean(lazy_1, axis=1)\n",
      "print 'lazy mean :', lazy_mean\n",
      "print\n",
      "print 'lazy mean *result* :\\n', lazy_mean.ndarray()\n",
      "print\n",
      "print 'same as original ...:\\n', mean_a1"
     ],
     "language": "python",
     "metadata": {
      "slideshow": {
       "slide_type": "fragment"
      }
     },
     "outputs": [
      {
       "output_type": "stream",
       "stream": "stdout",
       "text": [
        "lazy mean : <_Aggregation shape=(2,) dtype=dtype('float64')>\n",
        "\n",
        "lazy mean *result* :\n",
        "[ 2.66666667  6.        ]\n",
        "\n",
        "same as original ...:\n",
        "[ 2.66666667  6.        ]\n"
       ]
      }
     ],
     "prompt_number": 20
    },
    {
     "cell_type": "markdown",
     "metadata": {
      "slideshow": {
       "slide_type": "fragment"
      }
     },
     "source": [
      "### Same as before...\n",
      "But this time change the source data, between *forming* the mean and *evaluating* it."
     ]
    },
    {
     "cell_type": "code",
     "collapsed": false,
     "input": [
      "lazy_mean2 = biggus.mean(lazy_1, axis=1)\n",
      "print lazy_mean2\n",
      "array_1[0,:] = -1\n",
      "print lazy_mean2.ndarray()"
     ],
     "language": "python",
     "metadata": {
      "slideshow": {
       "slide_type": "fragment"
      }
     },
     "outputs": [
      {
       "output_type": "stream",
       "stream": "stdout",
       "text": [
        "<_Aggregation shape=(2,) dtype=dtype('float64')>\n",
        "[-1.  6.]\n"
       ]
      }
     ],
     "prompt_number": 21
    },
    {
     "cell_type": "markdown",
     "metadata": {
      "slideshow": {
       "slide_type": "slide"
      }
     },
     "source": [
      "[3]\n",
      "So... what is the point ?\n",
      "----"
     ]
    },
    {
     "cell_type": "markdown",
     "metadata": {
      "slideshow": {
       "slide_type": "fragment"
      }
     },
     "source": [
      " * **CONVENIENCE**  (or.. \"features\")\n",
      " "
     ]
    },
    {
     "cell_type": "markdown",
     "metadata": {
      "slideshow": {
       "slide_type": "fragment"
      }
     },
     "source": [
      " * **SPACE**  (resource efficiency)\n",
      " "
     ]
    },
    {
     "cell_type": "markdown",
     "metadata": {
      "slideshow": {
       "slide_type": "fragment"
      }
     },
     "source": [
      " * **TIME**  (more efficiency, with cleverness)\n",
      "  "
     ]
    },
    {
     "cell_type": "markdown",
     "metadata": {
      "slideshow": {
       "slide_type": "subslide"
      }
     },
     "source": [
      "[3a]\n",
      "CONVENIENCE\n",
      "----\n",
      "(or.. \"features\")\n",
      "* grab all the data\n",
      "* write analysis code\n",
      "* don't worry about resources / efficiency\n"
     ]
    },
    {
     "cell_type": "markdown",
     "metadata": {
      "slideshow": {
       "slide_type": "subslide"
      }
     },
     "source": [
      "[3b]\n",
      "SPACE (resource efficiency)\n",
      "----\n",
      " * data grows\n",
      " * eventually you can't fit all the data\n"
     ]
    },
    {
     "cell_type": "markdown",
     "metadata": {
      "slideshow": {
       "slide_type": "subslide"
      }
     },
     "source": [
      "[3c]\n",
      "TIME\n",
      "----\n",
      " * with piece-wise access (especially of files), you don't want to re-scan\n",
      " * the accessing processes must run \"in parallel\"\n",
      " * eventually / potentially this leads to distributed processing\n",
      "   *  (i.e. processes not co-hosted)\n"
     ]
    },
    {
     "cell_type": "markdown",
     "metadata": {
      "slideshow": {
       "slide_type": "slide"
      }
     },
     "source": [
      "[4]\n",
      "Features Summary:\n",
      "----\n",
      " 1. arrays and indexing\n",
      " 1. grouped arrays : stack + tile \n",
      " 1. statistics\n",
      " 1. arithmetic\n",
      " 1. parallelism"
     ]
    },
    {
     "cell_type": "markdown",
     "metadata": {
      "slideshow": {
       "slide_type": "fragment"
      }
     },
     "source": [
      "The uniformity here is key:\n",
      "  *  all operations produce an 'Array' object\n",
      "  *  all operations can be combined freely\n",
      "  *  so... the lazy representations allow efficient evaluation"
     ]
    },
    {
     "cell_type": "markdown",
     "metadata": {
      "slideshow": {
       "slide_type": "slide"
      }
     },
     "source": [
      "[5]\n",
      "Features #1 : **Arrays and Indexing**\n",
      "Anything that 'looks like' an array can be presented as a biggus.Array\n",
      "----\n",
      "So, **\"What is an array ?\"**\n",
      "\n",
      "It just needs to support the minimum numpy-array-like properties :  \n",
      "  * **shape**\n",
      "  * **dtype**\n",
      "  * **\\_\\_getitem\\_\\_**  (i.e. indexing)"
     ]
    },
    {
     "cell_type": "markdown",
     "metadata": {
      "slideshow": {
       "slide_type": "subslide"
      }
     },
     "source": [
      "[5a]\n",
      "### All types of Biggus array then support the major indexing operations..."
     ]
    },
    {
     "cell_type": "code",
     "collapsed": false,
     "input": [
      "Image('IndexingStyles.png')"
     ],
     "language": "python",
     "metadata": {
      "slideshow": {
       "slide_type": "fragment"
      }
     },
     "outputs": [
      {
       "metadata": {},
       "output_type": "pyout",
       "png": "[encoded data removed]",
       "prompt_number": 22,
       "text": [
        "<IPython.core.display.Image at 0xaf95768c>"
       ]
      }
     ],
     "prompt_number": 22
    },
    {
     "cell_type": "markdown",
     "metadata": {
      "slideshow": {
       "slide_type": "subslide"
      }
     },
     "source": [
      "[5b]\n",
      "### Here's a tiny example that \"looks like\" an array full of a constant, and indicates clearly when it is actually accessed."
     ]
    },
    {
     "cell_type": "code",
     "collapsed": false,
     "input": [
      "class constant_array(object):\n",
      "    def __init__(self, shape, value=0.0):\n",
      "        self.shape = shape\n",
      "        self.dtype = np.float\n",
      "        self._value = value\n",
      "    def __getitem__(self, indices):\n",
      "        print 'accessing :', indices\n",
      "        return  self._value * np.ones(self.shape)[indices]\n",
      "\n",
      "lazy_const_2x3 = biggus.NumpyArrayAdapter(constant_array((2, 3, 4), value=3.5))\n",
      "print lazy_const_2x3\n",
      "const_section = lazy_const_2x3[0, 1]\n",
      "print const_section\n",
      "print const_section.ndarray()"
     ],
     "language": "python",
     "metadata": {
      "slideshow": {
       "slide_type": "fragment"
      }
     },
     "outputs": [
      {
       "output_type": "stream",
       "stream": "stdout",
       "text": [
        "<NumpyArrayAdapter shape=(2, 3, 4) dtype=<type 'float'>>\n",
        "<NumpyArrayAdapter shape=(4,) dtype=<type 'float'>>\n",
        "accessing : (0, 1)\n",
        "[ 3.5  3.5  3.5  3.5]\n"
       ]
      }
     ],
     "prompt_number": 23
    },
    {
     "cell_type": "markdown",
     "metadata": {
      "slideshow": {
       "slide_type": "subslide"
      }
     },
     "source": [
      "[5c]\n",
      "### In fact, this functionality is already provided in biggus\n",
      "(without the evaluation debug).\n",
      "\n",
      "It is called a ConstantArray..\n"
     ]
    },
    {
     "cell_type": "code",
     "collapsed": false,
     "input": [
      "lazy_const_2x3 = biggus.ConstantArray((2, 3, 4), 3.77)\n",
      "print lazy_const_2x3\n",
      "const_section = lazy_const_2x3[0, 1]\n",
      "print const_section\n",
      "print const_section.ndarray()\n"
     ],
     "language": "python",
     "metadata": {
      "slideshow": {
       "slide_type": "fragment"
      }
     },
     "outputs": [
      {
       "output_type": "stream",
       "stream": "stdout",
       "text": [
        "<ConstantArray shape=(2, 3, 4) dtype=dtype('float64')>\n",
        "<ConstantArray shape=(4,) dtype=dtype('float64')>\n",
        "[ 3.77  3.77  3.77  3.77]\n"
       ]
      }
     ],
     "prompt_number": 24
    },
    {
     "cell_type": "markdown",
     "metadata": {
      "slideshow": {
       "slide_type": "slide"
      }
     },
     "source": [
      "[[6]] Features #2 : **Grouped Arrays**\n",
      "Arrays can be combined into larger arrays\n",
      "----\n",
      "Two methods:\n",
      "1. **\"stack\"** arranges a group of same-shaped Arrays in a new dimension\n",
      "2. **\"mosaic\"** joins arrays edge-to-edge\n"
     ]
    },
    {
     "cell_type": "markdown",
     "metadata": {
      "slideshow": {
       "slide_type": "subslide"
      }
     },
     "source": [
      "[6a]\n",
      "ArrayStack\n",
      "----\n",
      "Analogous to numpy \"stack\" operations ('hstack', 'vstack' etc.).\n",
      "\n",
      "Given multiple same-shaped Arrays, it creates a *new* dimension to index over them."
     ]
    },
    {
     "cell_type": "code",
     "collapsed": false,
     "input": [
      "Image('ArrayStacking.png')"
     ],
     "language": "python",
     "metadata": {
      "slideshow": {
       "slide_type": "fragment"
      }
     },
     "outputs": [
      {
       "metadata": {},
       "output_type": "pyout",
       "png": "[encoded data removed]",
       "prompt_number": 25,
       "text": [
        "<IPython.core.display.Image at 0xaf95786c>"
       ]
      }
     ],
     "prompt_number": 25
    },
    {
     "cell_type": "markdown",
     "metadata": {
      "slideshow": {
       "slide_type": "subslide"
      }
     },
     "source": [
      "### Code example:"
     ]
    },
    {
     "cell_type": "code",
     "collapsed": false,
     "input": [
      "arrays = [num * np.ones((2, 3)) for num in range(1,5)]\n",
      "for array in arrays:\n",
      "    array[-1, 0] = 99\n",
      "    print array\n",
      "print\n",
      "lazy_arrays = np.array([biggus.NumpyArrayAdapter(array) for array in arrays])\n",
      "stack = biggus.ArrayStack(lazy_arrays)\n",
      "print stack\n",
      "print stack.ndarray()"
     ],
     "language": "python",
     "metadata": {
      "slideshow": {
       "slide_type": "fragment"
      }
     },
     "outputs": [
      {
       "output_type": "stream",
       "stream": "stdout",
       "text": [
        "[[  1.   1.   1.]\n",
        " [ 99.   1.   1.]]\n",
        "[[  2.   2.   2.]\n",
        " [ 99.   2.   2.]]\n",
        "[[  3.   3.   3.]\n",
        " [ 99.   3.   3.]]\n",
        "[[  4.   4.   4.]\n",
        " [ 99.   4.   4.]]\n",
        "\n",
        "<ArrayStack shape=(4, 2, 3) dtype=dtype('float64')>\n",
        "[[[  1.   1.   1.]\n",
        "  [ 99.   1.   1.]]\n",
        "\n",
        " [[  2.   2.   2.]\n",
        "  [ 99.   2.   2.]]\n",
        "\n",
        " [[  3.   3.   3.]\n",
        "  [ 99.   3.   3.]]\n",
        "\n",
        " [[  4.   4.   4.]\n",
        "  [ 99.   4.   4.]]]\n"
       ]
      }
     ],
     "prompt_number": 26
    },
    {
     "cell_type": "markdown",
     "metadata": {
      "slideshow": {
       "slide_type": "subslide"
      }
     },
     "source": [
      "[6b]\n",
      "LinearMosaic\n",
      "----\n",
      "Analagous to numpy \"concatenate\" operations.\n",
      " * joins \"edge to edge\"\n",
      " * does *not* create a new dimension"
     ]
    },
    {
     "cell_type": "code",
     "collapsed": false,
     "input": [
      "# Make one of the components arrays smaller than the others\n",
      "lazy_arrays[2] = lazy_arrays[2][:,:1]\n",
      "# Combine into one\n",
      "mosaic = biggus.LinearMosaic(lazy_arrays, axis=1)\n",
      "print mosaic\n",
      "print mosaic.ndarray()"
     ],
     "language": "python",
     "metadata": {
      "slideshow": {
       "slide_type": "fragment"
      }
     },
     "outputs": [
      {
       "output_type": "stream",
       "stream": "stdout",
       "text": [
        "<LinearMosaic shape=(2, 10) dtype=dtype('float64')>\n",
        "[[  1.   1.   1.   2.   2.   2.   3.   4.   4.   4.]\n",
        " [ 99.   1.   1.  99.   2.   2.  99.  99.   4.   4.]]\n"
       ]
      }
     ],
     "prompt_number": 36
    },
    {
     "cell_type": "markdown",
     "metadata": {
      "slideshow": {
       "slide_type": "fragment"
      }
     },
     "source": [
      "Note:\n",
      "* this handles *irregular* sizes (along the joining axis)\n",
      "* the join is **seamless**"
     ]
    },
    {
     "cell_type": "markdown",
     "metadata": {
      "slideshow": {
       "slide_type": "subslide"
      }
     },
     "source": [
      "Combined usage : code example\n",
      "----\n",
      "With a nested construction, we can make a complex patchwork + extract 2d regions seamlessly."
     ]
    },
    {
     "cell_type": "code",
     "collapsed": false,
     "input": [
      "def ta(id, dims):\n",
      "    return biggus.NumpyArrayAdapter(id * np.ones(dims))\n",
      "\n",
      "row1 = biggus.LinearMosaic(np.array([ta(1, (3, 5)), ta(2, (3, 2)), ta(3, (3, 2))]), axis=1)\n",
      "row2 = biggus.LinearMosaic(np.array([ta(5, (5, 2)), ta(6, (5, 2)), ta(7, (5, 5))]), axis=1)\n",
      "tiles2d = biggus.LinearMosaic(np.array([row1, row2]), axis=0)\n",
      "\n",
      "part2d = tiles2d[1:6, 1:7]\n",
      "whole, part = tiles2d.ndarray(), part2d.ndarray()\n",
      "\n",
      "print 'whole:\\n', whole\n",
      "print '\\npart:\\n', part"
     ],
     "language": "python",
     "metadata": {
      "slideshow": {
       "slide_type": "fragment"
      }
     },
     "outputs": [
      {
       "output_type": "stream",
       "stream": "stdout",
       "text": [
        "whole:\n",
        "[[ 1.  1.  1.  1.  1.  2.  2.  3.  3.]\n",
        " [ 1.  1.  1.  1.  1.  2.  2.  3.  3.]\n",
        " [ 1.  1.  1.  1.  1.  2.  2.  3.  3.]\n",
        " [ 5.  5.  6.  6.  7.  7.  7.  7.  7.]\n",
        " [ 5.  5.  6.  6.  7.  7.  7.  7.  7.]\n",
        " [ 5.  5.  6.  6.  7.  7.  7.  7.  7.]\n",
        " [ 5.  5.  6.  6.  7.  7.  7.  7.  7.]\n",
        " [ 5.  5.  6.  6.  7.  7.  7.  7.  7.]]\n",
        "\n",
        "part:\n",
        "[[ 1.  1.  1.  1.  2.  2.]\n",
        " [ 1.  1.  1.  1.  2.  2.]\n",
        " [ 5.  6.  6.  7.  7.  7.]\n",
        " [ 5.  6.  6.  7.  7.  7.]\n",
        " [ 5.  6.  6.  7.  7.  7.]]\n"
       ]
      }
     ],
     "prompt_number": 28
    },
    {
     "cell_type": "markdown",
     "metadata": {
      "slideshow": {
       "slide_type": "subslide"
      }
     },
     "source": [
      "### Same, plotted ..."
     ]
    },
    {
     "cell_type": "code",
     "collapsed": false,
     "input": [
      "plt.figure(figsize=(12,4))\n",
      "plt.subplot(1, 2, 1); plt.pcolormesh(whole, edgecolor='black');\n",
      "plt.plot([1, 7, 7, 1, 1], [1, 1, 6, 6, 1], color='red', linewidth=5)\n",
      "plt.subplot(1, 2, 2); plt.pcolormesh(part, edgecolor='black')"
     ],
     "language": "python",
     "metadata": {
      "slideshow": {
       "slide_type": "fragment"
      }
     },
     "outputs": [
      {
       "metadata": {},
       "output_type": "pyout",
       "prompt_number": 37,
       "text": [
        "<matplotlib.collections.QuadMesh at 0xaf45188c>"
       ]
      },
      {
       "metadata": {},
       "output_type": "display_data",
       "png": "[encoded data removed]",
       "text": [
        "<matplotlib.figure.Figure at 0xaf26976c>"
       ]
      }
     ],
     "prompt_number": 37
    },
    {
     "cell_type": "code",
     "collapsed": false,
     "input": [
      "Image('TiledIndexing.png')"
     ],
     "language": "python",
     "metadata": {
      "slideshow": {
       "slide_type": "slide"
      }
     },
     "outputs": [
      {
       "metadata": {},
       "output_type": "pyout",
       "png": "[encoded data removed]",
       "prompt_number": 30,
       "text": [
        "<IPython.core.display.Image at 0xaf9920ec>"
       ]
      }
     ],
     "prompt_number": 30
    },
    {
     "cell_type": "markdown",
     "metadata": {
      "slideshow": {
       "slide_type": "slide"
      }
     },
     "source": [
      "END\n",
      "===="
     ]
    },
    {
     "cell_type": "markdown",
     "metadata": {},
     "source": []
    }
   ],
   "metadata": {}
  }
 ]
}