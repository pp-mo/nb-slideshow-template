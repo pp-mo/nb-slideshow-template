{
 "metadata": {
  "name": "",
  "signature": "sha256:145060fcf8ded2f819f43befa1570e9a5a659d8f6ca02548407f08e6afa6ff0a"
 },
 "nbformat": 3,
 "nbformat_minor": 0,
 "worksheets": [
  {
   "cells": [
    {
     "cell_type": "code",
     "collapsed": false,
     "input": [
      "from IPython.display import Image\n",
      "import matplotlib.pyplot as plt\n",
      "%run talktools"
     ],
     "language": "python",
     "metadata": {},
     "outputs": [
      {
       "html": [
        "<style>\n",
        "\n",
        ".rendered_html\n",
        "{\n",
        "  color: #2C5494;\n",
        "  font-family: Ubuntu;\n",
        "  font-size: 140%;\n",
        "  line-height: 1.1;\n",
        "  margin: 0.5em 0;\n",
        "  }\n",
        "\n",
        ".title\n",
        "{\n",
        "  color: #498AF3;\n",
        "  font-size: 250%;\n",
        "  font-weight:bold;\n",
        "  line-height: 1.2; \n",
        "  margin: 10px 50px 10px;\n",
        "  }\n",
        "\n",
        ".subtitle\n",
        "{\n",
        "  color: #386BBC;\n",
        "  font-size: 180%;\n",
        "  font-weight:bold;\n",
        "  line-height: 1.2; \n",
        "  margin: 20px 50px 20px;\n",
        "  }\n",
        "\n",
        ".slide-header, p.slide-header\n",
        "{\n",
        "  color: #498AF3;\n",
        "  font-size: 200%;\n",
        "  font-weight:bold;\n",
        "  margin: 0px 20px 10px;\n",
        "  page-break-before: always;\n",
        "  text-align: center;\n",
        "  }\n",
        "\n",
        ".rendered_html h1\n",
        "{\n",
        "  color: #498AF3;\n",
        "  line-height: 1.2; \n",
        "  margin: 0.15em 0em 0.5em;\n",
        "  page-break-before: always;\n",
        "  text-align: center;\n",
        "  }\n",
        "\n",
        "\n",
        ".rendered_html h2\n",
        "{ \n",
        "  color: #386BBC;\n",
        "  line-height: 1.2;\n",
        "  margin: 1.1em 0em 0.5em;\n",
        "  }\n",
        "\n",
        ".rendered_html h3\n",
        "{ \n",
        "  font-size: 100%;\n",
        "  line-height: 1.2;\n",
        "  margin: 1.1em 0em 0.5em;\n",
        "  }\n",
        "\n",
        ".rendered_html li\n",
        "{\n",
        "  line-height: 1.8;\n",
        "  }\n",
        "\n",
        ".input_prompt, .CodeMirror-lines, .output_area\n",
        "{\n",
        "  font-family: Consolas;\n",
        "  font-size: 120%;\n",
        "  }\n",
        "\n",
        ".gap-above\n",
        "{\n",
        "  padding-top: 200px;\n",
        "  }\n",
        "\n",
        ".gap01\n",
        "{\n",
        "  padding-top: 10px;\n",
        "  }\n",
        "\n",
        ".gap05\n",
        "{\n",
        "  padding-top: 50px;\n",
        "  }\n",
        "\n",
        ".gap1\n",
        "{\n",
        "  padding-top: 100px;\n",
        "  }\n",
        "\n",
        ".gap2\n",
        "{\n",
        "  padding-top: 200px;\n",
        "  }\n",
        "\n",
        ".gap3\n",
        "{\n",
        "  padding-top: 300px;\n",
        "  }\n",
        "\n",
        ".emph\n",
        "{\n",
        "  color: #386BBC;\n",
        "  }\n",
        "\n",
        ".warn\n",
        "{\n",
        "  color: red;\n",
        "  }\n",
        "\n",
        ".center\n",
        "{\n",
        "  text-align: center;\n",
        "  }\n",
        "\n",
        ".nb_link\n",
        "{\n",
        "    padding-bottom: 0.5em;\n",
        "}\n",
        "\n",
        "</style>\n"
       ],
       "metadata": {},
       "output_type": "display_data",
       "text": [
        "<IPython.core.display.HTML at 0xb1a9bf6c>"
       ]
      }
     ],
     "prompt_number": 1
    },
    {
     "cell_type": "markdown",
     "metadata": {
      "slideshow": {
       "slide_type": "slide"
      }
     },
     "source": [
      "[0]\n",
      "Efficient large data operations with Biggus\n",
      "===========================================\n",
      "\n",
      "Aug 30th 2014\n",
      "\n",
      "<img src=\"MO_Master_W.jpg\", width=150, align=\"right\">\n",
      "\n",
      "Patrick Peglar - UK Met Office, Exeter\n",
      "\n",
      " * Biggus:  https://github.com/SciTools/biggus\n",
      "\n",
      " * ( this talk:  https://github.com/pp-mo/nb-slideshow-template )\n"
     ]
    },
    {
     "cell_type": "markdown",
     "metadata": {
      "slideshow": {
       "slide_type": "subslide"
      }
     },
     "source": [
      "[0a]\n",
      "Overview\n",
      "-------\n",
      "\n",
      "Biggus is a lightweight pure-Python package which implements lazy operations on numpy array-like objects. This provides dramatically improved efficiency in analysing large datasets, for minimal additional effort in the client code."
     ]
    },
    {
     "cell_type": "markdown",
     "metadata": {
      "slideshow": {
       "slide_type": "fragment"
      }
     },
     "source": [
      "Biggus makes data analysis on large datasets easier\n",
      "- avoids scalability problems\n",
      "- makes code clearer and simpler\n",
      "- uses less space and time\n"
     ]
    },
    {
     "cell_type": "markdown",
     "metadata": {
      "slideshow": {
       "slide_type": "fragment"
      }
     },
     "source": [
      "The key technique is \"lazy evaluation\"\n",
      " \n",
      " Aka \"**don't do it until you have to**\"\n",
      " \n",
      " This goes by several near-interchangeable names:\n",
      "  * **VIRTUAL** arrays \n",
      "  * **LAZY**'- or\n",
      "  * **DEFERRED**-  evalution"
     ]
    },
    {
     "cell_type": "markdown",
     "metadata": {
      "slideshow": {
       "slide_type": "subslide"
      }
     },
     "source": [
      "[0b]\n",
      "Biggus provides 'virtual' arrays.\n",
      "---\n",
      "A virtual array does not need the actual *values* of its data content ...\n",
      " * ... but it knows all about it:\n",
      "   * size and shape\n",
      "   * datatype\n",
      "   * how to load (any given part of) it"
     ]
    },
    {
     "cell_type": "markdown",
     "metadata": {
      "slideshow": {
       "slide_type": "fragment"
      }
     },
     "source": [
      "Virtual arrays can be processed in the usual ways\n",
      "   * these manipulations don't process actual data\n",
      "   * actual results are got from the result arrays, but *only on request*"
     ]
    },
    {
     "cell_type": "markdown",
     "metadata": {
      "slideshow": {
       "slide_type": "fragment"
      }
     },
     "source": [
      "The 'deferred' operation is the source of ***all the benefits*** ...\n",
      "   * copes with arbitrary data sizes\n",
      "   * optimises data access\n",
      "   * separates data access from analysis concerns"
     ]
    },
    {
     "cell_type": "markdown",
     "metadata": {
      "slideshow": {
       "slide_type": "subslide"
      }
     },
     "source": [
      "[0c]\n",
      "The key features Biggus provides\n",
      "---\n",
      "* virtual arrays of arbitrary size\n",
      "* combine and extract\n",
      "* statistics\n",
      "* arithmetic\n",
      "* efficient evaluation\n"
     ]
    },
    {
     "cell_type": "markdown",
     "metadata": {
      "slideshow": {
       "slide_type": "subslide"
      }
     },
     "source": [
      "[0d]\n",
      "What's to come:\n",
      "---\n",
      " * dead-simple example\n",
      " * what it's good for\n",
      " * summary of current features\n",
      " * how it works (in outline)\n",
      " * current work and future directions\n"
     ]
    },
    {
     "cell_type": "markdown",
     "metadata": {
      "slideshow": {
       "slide_type": "slide"
      }
     },
     "source": [
      "[1]\n",
      "\n",
      "The longest journey ...\n",
      "------"
     ]
    },
    {
     "cell_type": "code",
     "collapsed": false,
     "input": [
      "import biggus\n",
      "print biggus.__version__"
     ],
     "language": "python",
     "metadata": {
      "slideshow": {
       "slide_type": "fragment"
      }
     },
     "outputs": [
      {
       "output_type": "stream",
       "stream": "stdout",
       "text": [
        "0.7.0-alpha\n"
       ]
      }
     ],
     "prompt_number": 2
    },
    {
     "cell_type": "markdown",
     "metadata": {
      "slideshow": {
       "slide_type": "slide"
      }
     },
     "source": [
      "[2]\n",
      "A simple 'mean' calculation ...\n",
      "---\n",
      "\n",
      "(and so later.. the biggus equivalent)"
     ]
    },
    {
     "cell_type": "code",
     "collapsed": false,
     "input": [
      "import numpy as np\n",
      "array_1 = np.array([[1., 5., 2.], [7., 6., 5.]])\n",
      "print 'simple array :\\n', array_1\n",
      "mean_a1 = array_1.mean(axis=1)\n",
      "print\n",
      "print 'mean over axis 1 :\\n',  mean_a1"
     ],
     "language": "python",
     "metadata": {
      "slideshow": {
       "slide_type": "fragment"
      }
     },
     "outputs": [
      {
       "output_type": "stream",
       "stream": "stdout",
       "text": [
        "simple array :\n",
        "[[ 1.  5.  2.]\n",
        " [ 7.  6.  5.]]\n",
        "\n",
        "mean over axis 1 :\n",
        "[ 2.66666667  6.        ]\n"
       ]
      }
     ],
     "prompt_number": 3
    },
    {
     "cell_type": "markdown",
     "metadata": {
      "slideshow": {
       "slide_type": "subslide"
      }
     },
     "source": [
      "[2a]\n",
      "Simple mean calculation : The Biggus equivalent\n",
      "----\n"
     ]
    },
    {
     "cell_type": "code",
     "collapsed": false,
     "input": [
      "from biggus import NumpyArrayAdapter as npwrap\n",
      "lazy_1 = npwrap(array_1)\n",
      "print 'a lazy array : ', lazy_1"
     ],
     "language": "python",
     "metadata": {
      "slideshow": {
       "slide_type": "fragment"
      }
     },
     "outputs": [
      {
       "output_type": "stream",
       "stream": "stdout",
       "text": [
        "a lazy array :  <NumpyArrayAdapter shape=(2, 3) dtype=dtype('float64')>\n"
       ]
      }
     ],
     "prompt_number": 4
    },
    {
     "cell_type": "markdown",
     "metadata": {
      "slideshow": {
       "slide_type": "subslide"
      }
     },
     "source": [
      "[2b]\n",
      "### ... lazy mean and result"
     ]
    },
    {
     "cell_type": "code",
     "collapsed": false,
     "input": [
      "lazy_mean = biggus.mean(lazy_1, axis=1)\n",
      "print 'lazy mean :', lazy_mean\n",
      "print\n",
      "print 'lazy mean *result* :\\n', lazy_mean.ndarray()\n",
      "print\n",
      "print 'same as original ...:\\n', mean_a1"
     ],
     "language": "python",
     "metadata": {
      "slideshow": {
       "slide_type": "fragment"
      }
     },
     "outputs": [
      {
       "output_type": "stream",
       "stream": "stdout",
       "text": [
        "lazy mean : <_Aggregation shape=(2,) dtype=dtype('float64')>\n",
        "\n",
        "lazy mean *result* :\n",
        "[ 2.66666667  6.        ]\n",
        "\n",
        "same as original ...:\n",
        "[ 2.66666667  6.        ]\n"
       ]
      }
     ],
     "prompt_number": 5
    },
    {
     "cell_type": "markdown",
     "metadata": {
      "slideshow": {
       "slide_type": "fragment"
      }
     },
     "source": [
      "### Repeat that ...\n",
      "But this time change the source data, between *forming* the mean and *evaluating* it."
     ]
    },
    {
     "cell_type": "code",
     "collapsed": false,
     "input": [
      "lazy_mean2 = biggus.mean(lazy_1, axis=1)\n",
      "print lazy_mean2\n",
      "array_1[0,:] = -1\n",
      "print lazy_mean2.ndarray()"
     ],
     "language": "python",
     "metadata": {
      "slideshow": {
       "slide_type": "fragment"
      }
     },
     "outputs": [
      {
       "output_type": "stream",
       "stream": "stdout",
       "text": [
        "<_Aggregation shape=(2,) dtype=dtype('float64')>\n",
        "[-1.  6.]\n"
       ]
      }
     ],
     "prompt_number": 6
    },
    {
     "cell_type": "markdown",
     "metadata": {
      "slideshow": {
       "slide_type": "slide"
      }
     },
     "source": [
      "[3]\n",
      "So... what is the point ?\n",
      "----"
     ]
    },
    {
     "cell_type": "markdown",
     "metadata": {
      "slideshow": {
       "slide_type": "fragment"
      }
     },
     "source": [
      " * **SPACE**  (memory usage)\n",
      " "
     ]
    },
    {
     "cell_type": "markdown",
     "metadata": {
      "slideshow": {
       "slide_type": "fragment"
      }
     },
     "source": [
      " * **TIME**  (optimised operation, especially data i/o)\n",
      "  "
     ]
    },
    {
     "cell_type": "markdown",
     "metadata": {
      "slideshow": {
       "slide_type": "fragment"
      }
     },
     "source": [
      " * **CODE** (convenience ; clarity ; separation of concerns)\n",
      " "
     ]
    },
    {
     "cell_type": "markdown",
     "metadata": {
      "slideshow": {
       "slide_type": "subslide"
      }
     },
     "source": [
      "[3a]\n",
      "SPACE (resource efficiency)\n",
      "----\n",
      " * data grows\n",
      " * eventually you can't fit all the data\n"
     ]
    },
    {
     "cell_type": "markdown",
     "metadata": {
      "slideshow": {
       "slide_type": "subslide"
      }
     },
     "source": [
      "[3b] The space problem - a historical example\n",
      "---\n",
      "<img src=\"Um_History.png\", align='left', width=600>\n",
      "\n",
      "### Which means...\n",
      " * A single forecast datafield now occupies over 200Mb\n",
      " * there are dozens of stored parameter fields, and dozens of timesteps per run\n",
      " * we do a new run every 6 hours\n"
     ]
    },
    {
     "cell_type": "markdown",
     "metadata": {
      "slideshow": {
       "slide_type": "subslide"
      }
     },
     "source": [
      "[3c]\n",
      "TIME\n",
      "----\n",
      " * avoid re-reading anything\n",
      " * pass sections of data to all consumer processes \"in parallel\"\n",
      " * eventually / potentially this leads to distributed processing\n",
      "   *  (i.e. processes not co-hosted)\n"
     ]
    },
    {
     "cell_type": "markdown",
     "metadata": {
      "slideshow": {
       "slide_type": "subslide"
      }
     },
     "source": [
      "[3d]\n",
      "CODE\n",
      "----\n",
      "The easy way to define a data analysis process\n",
      " * grab all the data\n",
      " * write analysis code\n",
      " * don't worry about resources / efficiency"
     ]
    },
    {
     "cell_type": "markdown",
     "metadata": {
      "slideshow": {
       "slide_type": "fragment"
      }
     },
     "source": [
      "Code using biggus **looks very similar**, but\n",
      " * deferred execution means it scales with data size\n",
      " * no need to confuse the code with data access concerns"
     ]
    },
    {
     "cell_type": "markdown",
     "metadata": {
      "slideshow": {
       "slide_type": "subslide"
      }
     },
     "source": [
      "[3e]\n",
      "Aside : use of biggus in Iris\n",
      "---\n",
      "<img src='iris_load_shot.png'>"
     ]
    },
    {
     "cell_type": "markdown",
     "metadata": {
      "slideshow": {
       "slide_type": "slide"
      }
     },
     "source": [
      "[4]\n",
      "Features Summary:\n",
      "----\n",
      " 1. arrays and indexing\n",
      " 1. combining arrays : stack + tile \n",
      " 1. statistics\n",
      " 1. arithmetic\n"
     ]
    },
    {
     "cell_type": "markdown",
     "metadata": {
      "slideshow": {
       "slide_type": "fragment"
      }
     },
     "source": [
      "The uniformity here is key:\n",
      "  *  all operations produce an 'Array' object\n",
      "  *  all operations can be combined freely\n",
      "  *  so... the lazy representations allow efficient evaluation"
     ]
    },
    {
     "cell_type": "markdown",
     "metadata": {
      "slideshow": {
       "slide_type": "slide"
      }
     },
     "source": [
      "[5] Features #1 : **Arrays and Indexing**\n",
      "----\n",
      "Anything that 'looks like' an array can be cast as a biggus.Array\n",
      "\n",
      "All types of Biggus array support the major indexing operations...\n",
      "<img src='IndexingStyles.png', align='left'>"
     ]
    },
    {
     "cell_type": "markdown",
     "metadata": {
      "slideshow": {
       "slide_type": "subslide"
      }
     },
     "source": [
      "So, **what is \"an array\" ?**\n",
      "---\n",
      "\n",
      "It just needs to support the minimum numpy-array-like properties :  \n",
      "  * **shape**\n",
      "  * **dtype**\n",
      "  * **\\_\\_getitem\\_\\_**  (i.e. indexing)"
     ]
    },
    {
     "cell_type": "markdown",
     "metadata": {
      "slideshow": {
       "slide_type": "fragment"
      }
     },
     "source": [
      "### Here's a tiny example that emulates an array full of a constant value ..."
     ]
    },
    {
     "cell_type": "markdown",
     "metadata": {
      "slideshow": {
       "slide_type": "subslide"
      }
     },
     "source": [
      "[5b]\n",
      "### ... a tiny example that \"looks like\" an array full of a constant\n",
      "(and indicates clearly when it is actually accessed )"
     ]
    },
    {
     "cell_type": "code",
     "collapsed": false,
     "input": [
      "class constant_array(object):\n",
      "    def __init__(self, shape, value=0.0):\n",
      "        self.shape = shape\n",
      "        self.dtype = np.array(value).dtype\n",
      "        self._value = value\n",
      "    def __getitem__(self, indices):\n",
      "        print '    !!! accessing :', indices\n",
      "        return  self._value * np.ones(self.shape)[indices]\n",
      "\n",
      "lazy_const_234 = npwrap(constant_array((2, 3, 4), value=3.5))\n",
      "print 'lazy_234:', lazy_const_234\n",
      "const_section = lazy_const_234[0, 1]\n",
      "print 'section:', const_section\n",
      "print '\\nresult:\\n', const_section.ndarray()"
     ],
     "language": "python",
     "metadata": {
      "slideshow": {
       "slide_type": "fragment"
      }
     },
     "outputs": [
      {
       "output_type": "stream",
       "stream": "stdout",
       "text": [
        "lazy_234: <NumpyArrayAdapter shape=(2, 3, 4) dtype=dtype('float64')>\n",
        "section: <NumpyArrayAdapter shape=(4,) dtype=dtype('float64')>\n",
        "\n",
        "result:\n",
        "    !!! accessing : (0, 1)\n",
        "[ 3.5  3.5  3.5  3.5]\n"
       ]
      }
     ],
     "prompt_number": 7
    },
    {
     "cell_type": "markdown",
     "metadata": {
      "slideshow": {
       "slide_type": "subslide"
      }
     },
     "source": [
      "[5c]\n",
      "### In fact, this functionality is already provided in biggus\n",
      "(without the evaluation debug).\n",
      "\n",
      "It is called a ConstantArray..\n"
     ]
    },
    {
     "cell_type": "code",
     "collapsed": false,
     "input": [
      "lazy_const_2x3 = biggus.ConstantArray((2, 3, 4), 3.77)\n",
      "print lazy_const_2x3\n",
      "const_section = lazy_const_2x3[0, 1]\n",
      "print const_section\n",
      "print const_section.ndarray()\n"
     ],
     "language": "python",
     "metadata": {
      "slideshow": {
       "slide_type": "fragment"
      }
     },
     "outputs": [
      {
       "output_type": "stream",
       "stream": "stdout",
       "text": [
        "<ConstantArray shape=(2, 3, 4) dtype=dtype('float64')>\n",
        "<ConstantArray shape=(4,) dtype=dtype('float64')>\n",
        "[ 3.77  3.77  3.77  3.77]\n"
       ]
      }
     ],
     "prompt_number": 8
    },
    {
     "cell_type": "markdown",
     "metadata": {
      "slideshow": {
       "slide_type": "slide"
      }
     },
     "source": [
      "[[6]] \n",
      "Features #2 : **Combining Arrays**\n",
      "----\n",
      "Arrays can be combined into larger arrays\n",
      "\n",
      "Two methods:\n",
      "1. **\"stack\"** combines Arrays along a new dimension\n",
      "2. **\"mosaic\"** joins arrays edge-to-edge\n"
     ]
    },
    {
     "cell_type": "markdown",
     "metadata": {
      "slideshow": {
       "slide_type": "subslide"
      }
     },
     "source": [
      "[6a]\n",
      "ArrayStack\n",
      "----\n",
      "Analogous to numpy \"stack\" operations ('hstack', 'vstack' etc.).\n",
      "\n",
      "Given multiple same-shaped Arrays, it creates a *new* dimension to index over them.\n",
      "\n",
      "<img src='ArrayStacking.png', align='left'>"
     ]
    },
    {
     "cell_type": "markdown",
     "metadata": {
      "slideshow": {
       "slide_type": "subslide"
      }
     },
     "source": [
      "### ArrayStack code example:"
     ]
    },
    {
     "cell_type": "code",
     "collapsed": false,
     "input": [
      "arrays = [num * np.ones((3)) for num in range(1,5)]\n",
      "print 'array#2:', arrays[2]\n",
      "print\n",
      "lazy_arrays = np.array([npwrap(array) for array in arrays])\n",
      "stack = biggus.ArrayStack(lazy_arrays)\n",
      "print stack\n",
      "print stack.ndarray()"
     ],
     "language": "python",
     "metadata": {
      "slideshow": {
       "slide_type": "fragment"
      }
     },
     "outputs": [
      {
       "output_type": "stream",
       "stream": "stdout",
       "text": [
        "array#2: [ 3.  3.  3.]\n",
        "\n",
        "<ArrayStack shape=(4, 3) dtype=dtype('float64')>\n",
        "[[ 1.  1.  1.]\n",
        " [ 2.  2.  2.]\n",
        " [ 3.  3.  3.]\n",
        " [ 4.  4.  4.]]\n"
       ]
      }
     ],
     "prompt_number": 9
    },
    {
     "cell_type": "markdown",
     "metadata": {
      "slideshow": {
       "slide_type": "subslide"
      }
     },
     "source": [
      "[6b]\n",
      "LinearMosaic\n",
      "----\n",
      "Analagous to numpy \"concatenate\" operations.\n",
      " * joins \"edge to edge\"\n",
      " * does *not* create a new dimension"
     ]
    },
    {
     "cell_type": "markdown",
     "metadata": {
      "slideshow": {
       "slide_type": "subslide"
      }
     },
     "source": [
      "### LinearMosaic code example:\n",
      " "
     ]
    },
    {
     "cell_type": "code",
     "collapsed": false,
     "input": [
      "# Make one of the components arrays smaller than the others\n",
      "lazy_arrays[2] = lazy_arrays[2][:1]\n",
      "# Combine into one\n",
      "mosaic = biggus.LinearMosaic(lazy_arrays, axis=0)\n",
      "print mosaic\n",
      "print mosaic.ndarray()"
     ],
     "language": "python",
     "metadata": {
      "slideshow": {
       "slide_type": "fragment"
      }
     },
     "outputs": [
      {
       "output_type": "stream",
       "stream": "stdout",
       "text": [
        "<LinearMosaic shape=(10,) dtype=dtype('float64')>\n",
        "[ 1.  1.  1.  2.  2.  2.  3.  4.  4.  4.]\n"
       ]
      }
     ],
     "prompt_number": 10
    },
    {
     "cell_type": "markdown",
     "metadata": {
      "slideshow": {
       "slide_type": "fragment"
      }
     },
     "source": [
      "Note:\n",
      "* this handles *irregular* sizes (along the joining axis)\n",
      "* the join is **seamless**"
     ]
    },
    {
     "cell_type": "markdown",
     "metadata": {
      "slideshow": {
       "slide_type": "subslide"
      }
     },
     "source": [
      "Combined usage : code example\n",
      "----\n",
      "With a nested construction, we can make a complex patchwork + extract 2d regions seamlessly ...\n",
      "\n",
      "<img src='TiledIndexing.png', width=600>\n",
      "\n",
      "The pink cells show separate data sources, joined together with nested 'LinearMosaic's.\n",
      "\n",
      "The extracted area is a new virtual array, seamlessly extracted across the original boundaries. "
     ]
    },
    {
     "cell_type": "markdown",
     "metadata": {
      "slideshow": {
       "slide_type": "slide"
      }
     },
     "source": [
      "[7] Features #3 : **Statistics**\n",
      "----\n",
      "There are basic functions to perform statistics on an Array ('mean', 'std', 'count', 'var').\n",
      "\n",
      "We've already seen an example of this:\n"
     ]
    },
    {
     "cell_type": "code",
     "collapsed": false,
     "input": [
      "mean = biggus.mean(lazy_arrays[0], axis=0)\n",
      "print mean"
     ],
     "language": "python",
     "metadata": {
      "slideshow": {
       "slide_type": "fragment"
      }
     },
     "outputs": [
      {
       "output_type": "stream",
       "stream": "stdout",
       "text": [
        "<_Aggregation shape=() dtype=dtype('float64')>\n"
       ]
      }
     ],
     "prompt_number": 11
    },
    {
     "cell_type": "markdown",
     "metadata": {
      "slideshow": {
       "slide_type": "fragment"
      }
     },
     "source": [
      "The other operations simply follow the same pattern."
     ]
    },
    {
     "cell_type": "markdown",
     "metadata": {
      "slideshow": {
       "slide_type": "subslide"
      }
     },
     "source": [
      "#### Statistical functions must be individually implemented :--\n",
      " * the algorithm is recast in a standard form (subclass '_Aggregation') ...\n",
      " * data is processed in sections known as \"chunks\", with the simple pattern:\n",
      "   * initialise\n",
      "   * process chunks, as we are given them\n",
      "   * finalise"
     ]
    },
    {
     "cell_type": "markdown",
     "metadata": {
      "slideshow": {
       "slide_type": "fragment"
      }
     },
     "source": [
      "The \"chunking\" is managed by an evaluation \"engine\" (see on..)\n",
      "\n",
      "However, a statistical operation can specify constraints on its chunking process.\n",
      " * for instance, a (future) median statistic wll need *all* the data on its axis"
     ]
    },
    {
     "cell_type": "markdown",
     "metadata": {
      "slideshow": {
       "slide_type": "slide"
      }
     },
     "source": [
      "[8] Features #4 : **Array Arithmetic**\n",
      "----\n",
      "Basic lazy arithmetic functions are provided ('add', 'sub').\n",
      "\n",
      "### Code example ...\n"
     ]
    },
    {
     "cell_type": "code",
     "collapsed": false,
     "input": [
      "values = npwrap(np.array([1.0, 2.0, 3.0]))\n",
      "constants = biggus.ConstantArray((3,), 1000.0)\n",
      "sum = biggus.add(values, constants)\n",
      "print 'sum:', sum\n",
      "print 'sum results:\\n', sum.ndarray()\n"
     ],
     "language": "python",
     "metadata": {
      "slideshow": {
       "slide_type": "fragment"
      }
     },
     "outputs": [
      {
       "output_type": "stream",
       "stream": "stdout",
       "text": [
        "sum: <_Elementwise shape=(3,) dtype=dtype('float64')>\n",
        "sum results:\n",
        "[ 1001.  1002.  1003.]\n"
       ]
      }
     ],
     "prompt_number": 12
    },
    {
     "cell_type": "markdown",
     "metadata": {
      "slideshow": {
       "slide_type": "fragment"
      }
     },
     "source": [
      "The implementation of these is much more straightforward than statistics :\n",
      "  * the function is an 'ElementWise' instance, wrapping the required (numpy) function\n",
      "  * it doesn't care how the source data is chunked, so chunks processing is generalised \n",
      "  * so, they are somewhat like numpy 'ufuncs'\n",
      " "
     ]
    },
    {
     "cell_type": "markdown",
     "metadata": {
      "slideshow": {
       "slide_type": "slide"
      }
     },
     "source": [
      "[9] \n",
      "**How it works**\n",
      "----\n",
      "in brief: **Parallel Evaluation**\n",
      "\n",
      "The point is to avoid the need to make multiple passes over large datasets, while keeping memory usage within sensible limits.\n",
      "\n",
      "The abstraction of operations provided by the lazy constructs means we can also take advantage of parallelism."
     ]
    },
    {
     "cell_type": "markdown",
     "metadata": {
      "slideshow": {
       "slide_type": "subslide"
      }
     },
     "source": [
      "**Evaluation example:**  a possible processing scheme ...\n",
      "\n",
      "<img src=\"ExpressionGraph.png\", align='right', width=600>\n",
      "\n",
      "\n",
      "    B_mean = biggus.mean(B, axis=0)\n",
      "    diff = biggus.sub(A, B_mean)\n",
      "    X = biggus.count(diff)\n",
      "    Y = biggus.mean(diff)\n",
      "    Z = biggus.std(diff)    \n",
      "    x, y, z = \\\n",
      "      biggus.ndarrays((X, Y, Z))\n",
      " \n"
     ]
    },
    {
     "cell_type": "markdown",
     "metadata": {
      "slideshow": {
       "slide_type": "subslide"
      }
     },
     "source": [
      "[9a]\n",
      "### Parallel Evaluation code example ..."
     ]
    },
    {
     "cell_type": "code",
     "collapsed": false,
     "input": [
      "# Make test data (ordinary numpy arrays)\n",
      "src_a = np.arange(10.0) % 3\n",
      "src_b = np.arange(40.0).reshape(10, 4) % 7\n",
      "print src_a\n"
     ],
     "language": "python",
     "metadata": {
      "slideshow": {
       "slide_type": "fragment"
      }
     },
     "outputs": [
      {
       "output_type": "stream",
       "stream": "stdout",
       "text": [
        "[ 0.  1.  2.  0.  1.  2.  0.  1.  2.  0.]\n"
       ]
      }
     ],
     "prompt_number": 13
    },
    {
     "cell_type": "code",
     "collapsed": false,
     "input": [
      "# Process in biggus to make 3 lazy results. \n",
      "A = npwrap(src_a)\n",
      "B = npwrap(src_b)\n",
      "B_mean = biggus.mean(B, axis=1)\n",
      "diff = biggus.sub(A, B_mean)\n",
      "X = biggus.count(diff, axis=0)\n",
      "Y = biggus.mean(diff, axis=0)\n",
      "Z = biggus.std(diff, axis=0)\n",
      "print X"
     ],
     "language": "python",
     "metadata": {
      "slideshow": {
       "slide_type": "fragment"
      }
     },
     "outputs": [
      {
       "output_type": "stream",
       "stream": "stdout",
       "text": [
        "<_Aggregation shape=() dtype=dtype('int32')>\n"
       ]
      }
     ],
     "prompt_number": 14
    },
    {
     "cell_type": "code",
     "collapsed": false,
     "input": [
      "# Evaluate.\n",
      "x, y, z = biggus.ndarrays((X, Y, Z))\n",
      "print x, y, z"
     ],
     "language": "python",
     "metadata": {
      "slideshow": {
       "slide_type": "fragment"
      }
     },
     "outputs": [
      {
       "output_type": "stream",
       "stream": "stdout",
       "text": [
        "10 -1.975 1.27205542332\n"
       ]
      }
     ],
     "prompt_number": 15
    },
    {
     "cell_type": "markdown",
     "metadata": {
      "slideshow": {
       "slide_type": "fragment"
      }
     },
     "source": [
      "As evaluation outputs form a stream of \"chunks\", each consumer must process each chunk.\n",
      "\n",
      "To gain speed, the consumers of the data can also operate concurrently."
     ]
    },
    {
     "cell_type": "markdown",
     "metadata": {
      "slideshow": {
       "slide_type": "slide"
      }
     },
     "source": [
      "[10]\n",
      "Review\n",
      "---\n",
      "Current status\n",
      "  * provided features are immediately useful (e.g. Iris)\n",
      "    * virtual arrays\n",
      "    * combine and extract\n",
      "    * arithemtic and statistics\n",
      "    * efficient evaluation\n",
      "  * still many missing features \n",
      "\n",
      "Future directions\n",
      "  * direct-to-file saving, with parallel evalution\n",
      "  * more intelligent chunking strategies\n",
      "  * more statistics\n",
      "  * **whatever gets asked for ...**"
     ]
    },
    {
     "cell_type": "markdown",
     "metadata": {
      "slideshow": {
       "slide_type": "slide"
      }
     },
     "source": [
      "[11]\n",
      "Winding up:\n",
      "\n",
      "### \"Forget all your memory worries and calculate faster and easier with ...\"\n",
      "https://github.com/SciTools/biggus\n",
      " \n",
      "## Biggus is:\n",
      " * a fully open-source independent project\n",
      " * licenced under LGPL\n",
      " * developed by contributors around the world\n",
      " * ready for real-world uses\n",
      " * a key dependency of Iris (https://github.com/SciTools/iris)\n",
      " \n",
      "## Just using it is a contribution\n",
      "We look forward to your contribution !\n",
      "\n",
      "---\n",
      "  \n",
      "---\n",
      "  \n",
      "---\n",
      "\n",
      "talk source : https://github.com/pp-mo/nb-slideshow-template/blob/master/biggus_latest_complete.ipynb\n",
      "\n"
     ]
    },
    {
     "cell_type": "markdown",
     "metadata": {
      "slideshow": {
       "slide_type": "slide"
      }
     },
     "source": [
      "END\n",
      "===="
     ]
    },
    {
     "cell_type": "code",
     "collapsed": false,
     "input": [
      "def ta(id, dims):\n",
      "    return npwrap(id * np.ones(dims))\n",
      "\n",
      "row1 = biggus.LinearMosaic(np.array([ta(1, (3, 5)), ta(2, (3, 2)), ta(3, (3, 2))]), axis=1)\n",
      "row2 = biggus.LinearMosaic(np.array([ta(5, (5, 2)), ta(6, (5, 2)), ta(7, (5, 5))]), axis=1)\n",
      "tiles2d = biggus.LinearMosaic(np.array([row1, row2]), axis=0)\n",
      "\n",
      "part2d = tiles2d[1:6, 1:7]\n",
      "whole, part = tiles2d.ndarray(), part2d.ndarray()\n",
      "\n",
      "print 'whole:', whole\n",
      "print 'part:', part\n",
      "plt.figure(figsize=(12,4))\n",
      "plt.subplot(1, 2, 1); plt.pcolormesh(whole, edgecolor='black');\n",
      "plt.plot([1, 7, 7, 1, 1], [1, 1, 6, 6, 1], color='red', linewidth=5)\n",
      "plt.subplot(1, 2, 2); plt.pcolormesh(part, edgecolor='black')"
     ],
     "language": "python",
     "metadata": {
      "slideshow": {
       "slide_type": "skip"
      }
     },
     "outputs": [
      {
       "output_type": "stream",
       "stream": "stdout",
       "text": [
        "whole: [[ 1.  1.  1.  1.  1.  2.  2.  3.  3.]\n",
        " [ 1.  1.  1.  1.  1.  2.  2.  3.  3.]\n",
        " [ 1.  1.  1.  1.  1.  2.  2.  3.  3.]\n",
        " [ 5.  5.  6.  6.  7.  7.  7.  7.  7.]\n",
        " [ 5.  5.  6.  6.  7.  7.  7.  7.  7.]\n",
        " [ 5.  5.  6.  6.  7.  7.  7.  7.  7.]\n",
        " [ 5.  5.  6.  6.  7.  7.  7.  7.  7.]\n",
        " [ 5.  5.  6.  6.  7.  7.  7.  7.  7.]]\n",
        "part: [[ 1.  1.  1.  1.  2.  2.]\n",
        " [ 1.  1.  1.  1.  2.  2.]\n",
        " [ 5.  6.  6.  7.  7.  7.]\n",
        " [ 5.  6.  6.  7.  7.  7.]\n",
        " [ 5.  6.  6.  7.  7.  7.]]\n"
       ]
      },
      {
       "metadata": {},
       "output_type": "pyout",
       "prompt_number": 16,
       "text": [
        "<matplotlib.collections.QuadMesh at 0xb09dfecc>"
       ]
      },
      {
       "metadata": {},
       "output_type": "display_data",
       "png": "[encoded data removed]",
       "text": [
        "<matplotlib.figure.Figure at 0xaf9fedac>"
       ]
      }
     ],
     "prompt_number": 16
    },
    {
     "cell_type": "markdown",
     "metadata": {},
     "source": []
    }
   ],
   "metadata": {}
  }
 ]
}